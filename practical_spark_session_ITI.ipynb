{
  "cells": [
    {
      "cell_type": "markdown",
      "metadata": {
        "id": "view-in-github",
        "colab_type": "text"
      },
      "source": [
        "<a href=\"https://colab.research.google.com/github/AyaElsawyElghaysh/ML_Spark_Tasks/blob/main/practical_spark_session_ITI.ipynb\" target=\"_parent\"><img src=\"https://colab.research.google.com/assets/colab-badge.svg\" alt=\"Open In Colab\"/></a>"
      ]
    },
    {
      "cell_type": "code",
      "source": [
        "!pip install pyspark py4j"
      ],
      "metadata": {
        "id": "EmZJsWFfh23G",
        "outputId": "b2957f85-b2ed-45a5-a2fb-449ba9cd54bd",
        "colab": {
          "base_uri": "https://localhost:8080/"
        }
      },
      "id": "EmZJsWFfh23G",
      "execution_count": 71,
      "outputs": [
        {
          "output_type": "stream",
          "name": "stdout",
          "text": [
            "Looking in indexes: https://pypi.org/simple, https://us-python.pkg.dev/colab-wheels/public/simple/\n",
            "Requirement already satisfied: pyspark in /usr/local/lib/python3.7/dist-packages (3.3.0)\n",
            "Requirement already satisfied: py4j in /usr/local/lib/python3.7/dist-packages (0.10.9.5)\n"
          ]
        }
      ]
    },
    {
      "cell_type": "markdown",
      "id": "05f1e8db",
      "metadata": {
        "id": "05f1e8db"
      },
      "source": [
        "# **Labs 1 and 2 PySpark:**\n",
        "\n",
        "In these labs we will be using the \"[[NeurIPS 2020] Data Science for COVID-19 (DS4C)](https://www.kaggle.com/datasets/kimjihoo/coronavirusdataset?select=PatientInfo.csv)\" dataset, retrieved from [Kaggle](https://www.kaggle.com/) on 1/6/2022, for educational non commercial purpose, License\n",
        "[CC BY-NC-SA 4.0\n",
        "](https://creativecommons.org/licenses/by-nc-sa/4.0/)\n",
        "\n",
        "\n",
        "The csv file that we will be using in this lab is **PatientInfo**."
      ]
    },
    {
      "cell_type": "markdown",
      "id": "3ac9bbf0",
      "metadata": {
        "id": "3ac9bbf0"
      },
      "source": [
        "## PatientInfo.csv\n",
        "\n",
        "**patient_id**\n",
        "the ID of the patient\n",
        "\n",
        "**sex**\n",
        "the sex of the patient\n",
        "\n",
        "**age**\n",
        "the age of the patient\n",
        "\n",
        "**country**\n",
        "the country of the patient\n",
        "\n",
        "**province**\n",
        "the province of the patient\n",
        "\n",
        "**city**\n",
        "the city of the patient\n",
        "\n",
        "**infection_case**\n",
        "the case of infection\n",
        "\n",
        "**infected_by**\n",
        "the ID of who infected the patient\n",
        "\n",
        "\n",
        "**contact_number**\n",
        "the number of contacts with people\n",
        "\n",
        "**symptom_onset_date**\n",
        "the date of symptom onset\n",
        "\n",
        "**confirmed_date**\n",
        "the date of being confirmed\n",
        "\n",
        "**released_date**\n",
        "the date of being released\n",
        "\n",
        "**deceased_date**\n",
        "the date of being deceased\n",
        "\n",
        "**state**\n",
        "isolated / released / deceased"
      ]
    },
    {
      "cell_type": "markdown",
      "id": "34b6f619",
      "metadata": {
        "id": "34b6f619"
      },
      "source": [
        "### Import the pyspark and check it's version"
      ]
    },
    {
      "cell_type": "code",
      "execution_count": 72,
      "id": "29fe2ddc",
      "metadata": {
        "id": "29fe2ddc"
      },
      "outputs": [],
      "source": [
        "import  pyspark.sql.functions  as fn\n",
        "from pyspark.sql.functions import *\n",
        "from pyspark.sql import  SparkSession\n",
        "from pyspark.sql.types import DoubleType"
      ]
    },
    {
      "cell_type": "code",
      "source": [
        ""
      ],
      "metadata": {
        "id": "oukfHyv69yX-"
      },
      "id": "oukfHyv69yX-",
      "execution_count": 72,
      "outputs": []
    },
    {
      "cell_type": "markdown",
      "id": "70c0fc8e",
      "metadata": {
        "id": "70c0fc8e"
      },
      "source": [
        "### Import and create SparkSession"
      ]
    },
    {
      "cell_type": "code",
      "source": [
        "from google.colab import drive\n",
        "drive.mount('/content/drive')"
      ],
      "metadata": {
        "id": "zkvESdafjMm2",
        "colab": {
          "base_uri": "https://localhost:8080/"
        },
        "outputId": "74680a23-693f-4a4a-b9c1-1825ccc6c838"
      },
      "id": "zkvESdafjMm2",
      "execution_count": 73,
      "outputs": [
        {
          "output_type": "stream",
          "name": "stdout",
          "text": [
            "Drive already mounted at /content/drive; to attempt to forcibly remount, call drive.mount(\"/content/drive\", force_remount=True).\n"
          ]
        }
      ]
    },
    {
      "cell_type": "code",
      "execution_count": 74,
      "id": "94904228",
      "metadata": {
        "id": "94904228"
      },
      "outputs": [],
      "source": [
        "spark=SparkSession.builder.getOrCreate()"
      ]
    },
    {
      "cell_type": "markdown",
      "id": "7356d68d",
      "metadata": {
        "id": "7356d68d"
      },
      "source": [
        "### Load the PatientInfo.csv file and show the first 5 rows"
      ]
    },
    {
      "cell_type": "code",
      "execution_count": 75,
      "id": "d5185728",
      "metadata": {
        "id": "d5185728",
        "colab": {
          "base_uri": "https://localhost:8080/",
          "height": 17
        },
        "outputId": "9c5a4e67-3022-4b3d-89ff-c45f95eff2ad"
      },
      "outputs": [
        {
          "output_type": "display_data",
          "data": {
            "text/plain": [
              "<IPython.core.display.HTML object>"
            ],
            "text/html": [
              "<style>pre { white-space: pre !important; }</style>"
            ]
          },
          "metadata": {}
        }
      ],
      "source": [
        "from IPython.display import display, HTML\n",
        "display(HTML(\"<style>pre { white-space: pre !important; }</style>\"))"
      ]
    },
    {
      "cell_type": "code",
      "execution_count": 76,
      "id": "2196bca5",
      "metadata": {
        "id": "2196bca5"
      },
      "outputs": [],
      "source": [
        "df=spark.read.csv(\"/content/drive/MyDrive/Spark_data/data/PatientInfo.csv\",header=True,inferSchema=True)"
      ]
    },
    {
      "cell_type": "markdown",
      "id": "4d43bdca",
      "metadata": {
        "id": "4d43bdca"
      },
      "source": [
        "### Display the schema of the dataset"
      ]
    },
    {
      "cell_type": "code",
      "execution_count": 77,
      "id": "c51a2507",
      "metadata": {
        "id": "c51a2507",
        "colab": {
          "base_uri": "https://localhost:8080/"
        },
        "outputId": "82b167e3-1a53-4aec-f729-0efc1cfc5680"
      },
      "outputs": [
        {
          "output_type": "stream",
          "name": "stdout",
          "text": [
            "root\n",
            " |-- patient_id: long (nullable = true)\n",
            " |-- sex: string (nullable = true)\n",
            " |-- age: string (nullable = true)\n",
            " |-- country: string (nullable = true)\n",
            " |-- province: string (nullable = true)\n",
            " |-- city: string (nullable = true)\n",
            " |-- infection_case: string (nullable = true)\n",
            " |-- infected_by: string (nullable = true)\n",
            " |-- contact_number: string (nullable = true)\n",
            " |-- symptom_onset_date: string (nullable = true)\n",
            " |-- confirmed_date: timestamp (nullable = true)\n",
            " |-- released_date: timestamp (nullable = true)\n",
            " |-- deceased_date: timestamp (nullable = true)\n",
            " |-- state: string (nullable = true)\n",
            "\n"
          ]
        }
      ],
      "source": [
        "df.printSchema()"
      ]
    },
    {
      "cell_type": "markdown",
      "id": "3114e1dd",
      "metadata": {
        "id": "3114e1dd"
      },
      "source": [
        "### Display the statistical summary"
      ]
    },
    {
      "cell_type": "code",
      "execution_count": 78,
      "id": "18d63947",
      "metadata": {
        "id": "18d63947",
        "colab": {
          "base_uri": "https://localhost:8080/"
        },
        "outputId": "19b8d33e-d094-47d3-8c25-9a40dda86154"
      },
      "outputs": [
        {
          "output_type": "stream",
          "name": "stdout",
          "text": [
            "+-------+--------------------+------+----+----------+--------+--------------+--------------------+--------------------+--------------------+------------------+--------+\n",
            "|summary|          patient_id|   sex| age|   country|province|          city|      infection_case|         infected_by|      contact_number|symptom_onset_date|   state|\n",
            "+-------+--------------------+------+----+----------+--------+--------------+--------------------+--------------------+--------------------+------------------+--------+\n",
            "|  count|                5165|  4043|3785|      5165|    5165|          5071|                4246|                1346|                 791|               690|    5165|\n",
            "|   mean|2.8636345618679576E9|  null|null|      null|    null|          null|                null|2.2845944015643125E9|1.6772572523506988E7|              null|    null|\n",
            "| stddev| 2.074210725277473E9|  null|null|      null|    null|          null|                null|1.5265072953383324E9| 3.093097580985502E8|              null|    null|\n",
            "|    min|          1000000001|female|  0s|Bangladesh|   Busan|     Andong-si|Anyang Gunpo Past...|          1000000002|                   -|                  |deceased|\n",
            "|    25%|          1000001291|  null|null|      null|    null|          null|                null|       1.400000102E9|                 2.0|              null|    null|\n",
            "|    50%|          2000000369|  null|null|      null|    null|          null|                null|       2.000000167E9|                 4.0|              null|    null|\n",
            "|    75%|          6001000115|  null|null|      null|    null|          null|                null|       2.000000975E9|                14.0|              null|    null|\n",
            "|    max|          7000000019|  male| 90s|   Vietnam|   Ulsan|sankyeock-dong|     overseas inflow|          7000000009|                  95|        2020-06-28|released|\n",
            "+-------+--------------------+------+----+----------+--------+--------------+--------------------+--------------------+--------------------+------------------+--------+\n",
            "\n"
          ]
        }
      ],
      "source": [
        "df.summary().show()"
      ]
    },
    {
      "cell_type": "markdown",
      "id": "c78859b9",
      "metadata": {
        "id": "c78859b9"
      },
      "source": [
        "### Using the state column.\n",
        "### How many people survived (released), and how many didn't survive (isolated/deceased)?"
      ]
    },
    {
      "cell_type": "code",
      "execution_count": 79,
      "id": "63e84045",
      "metadata": {
        "id": "63e84045",
        "colab": {
          "base_uri": "https://localhost:8080/"
        },
        "outputId": "d5a9318c-54b6-4798-a8b8-4c53ba4b24a8"
      },
      "outputs": [
        {
          "output_type": "stream",
          "name": "stdout",
          "text": [
            "+--------+\n",
            "|   state|\n",
            "+--------+\n",
            "|released|\n",
            "|released|\n",
            "|released|\n",
            "|released|\n",
            "|released|\n",
            "|released|\n",
            "|released|\n",
            "|released|\n",
            "|released|\n",
            "|released|\n",
            "|released|\n",
            "|released|\n",
            "|deceased|\n",
            "|released|\n",
            "|released|\n",
            "|released|\n",
            "|released|\n",
            "|released|\n",
            "|released|\n",
            "|released|\n",
            "+--------+\n",
            "only showing top 20 rows\n",
            "\n"
          ]
        }
      ],
      "source": [
        "df.select(\"state\").show()"
      ]
    },
    {
      "cell_type": "code",
      "source": [
        "df.groupby(col(\"state\")).count().show()"
      ],
      "metadata": {
        "id": "CljREn97rAID",
        "colab": {
          "base_uri": "https://localhost:8080/"
        },
        "outputId": "016432e6-dd93-4aa4-b95b-c5124841e72c"
      },
      "id": "CljREn97rAID",
      "execution_count": 80,
      "outputs": [
        {
          "output_type": "stream",
          "name": "stdout",
          "text": [
            "+--------+-----+\n",
            "|   state|count|\n",
            "+--------+-----+\n",
            "|isolated| 2158|\n",
            "|released| 2929|\n",
            "|deceased|   78|\n",
            "+--------+-----+\n",
            "\n"
          ]
        }
      ]
    },
    {
      "cell_type": "code",
      "source": [
        "survived_released=df.select(col(\"state\")).\\\n",
        "          where(col(\"state\")==\"released\").count()\n",
        "survived_released"
      ],
      "metadata": {
        "id": "zbdonoKWmFjA",
        "colab": {
          "base_uri": "https://localhost:8080/"
        },
        "outputId": "fa3c06ac-1391-4f6c-9c5c-2e4abbbaed07"
      },
      "id": "zbdonoKWmFjA",
      "execution_count": 81,
      "outputs": [
        {
          "output_type": "execute_result",
          "data": {
            "text/plain": [
              "2929"
            ]
          },
          "metadata": {},
          "execution_count": 81
        }
      ]
    },
    {
      "cell_type": "code",
      "source": [
        "survived_isolated=df.select(col(\"state\")).\\\n",
        "          where(col(\"state\")==\"isolated\").count()\n",
        "survived_isolated  "
      ],
      "metadata": {
        "id": "J5sFHEfzqpgL",
        "colab": {
          "base_uri": "https://localhost:8080/"
        },
        "outputId": "2f7a8f2e-1ee3-4f0d-b12a-4c5e5fcd61a7"
      },
      "id": "J5sFHEfzqpgL",
      "execution_count": 82,
      "outputs": [
        {
          "output_type": "execute_result",
          "data": {
            "text/plain": [
              "2158"
            ]
          },
          "metadata": {},
          "execution_count": 82
        }
      ]
    },
    {
      "cell_type": "code",
      "source": [
        "survived_deceased=df.select(col(\"state\")).\\\n",
        "          where(col(\"state\")==\"deceased\").count()\n",
        "survived_deceased"
      ],
      "metadata": {
        "id": "t_9em9nztIL9",
        "colab": {
          "base_uri": "https://localhost:8080/"
        },
        "outputId": "25e5fa75-f510-4683-d3c9-632a282cf5c4"
      },
      "id": "t_9em9nztIL9",
      "execution_count": 83,
      "outputs": [
        {
          "output_type": "execute_result",
          "data": {
            "text/plain": [
              "78"
            ]
          },
          "metadata": {},
          "execution_count": 83
        }
      ]
    },
    {
      "cell_type": "markdown",
      "id": "59c16346",
      "metadata": {
        "id": "59c16346"
      },
      "source": [
        "### Display the number of null values in each column"
      ]
    },
    {
      "cell_type": "code",
      "execution_count": 84,
      "id": "4adc0ab6",
      "metadata": {
        "id": "4adc0ab6",
        "colab": {
          "base_uri": "https://localhost:8080/"
        },
        "outputId": "202337bc-ff14-464c-b73b-a6cfd722a698"
      },
      "outputs": [
        {
          "output_type": "stream",
          "name": "stdout",
          "text": [
            "+----------+----+----+-------+--------+----+--------------+-----------+--------------+------------------+--------------+-------------+-------------+-----+\n",
            "|patient_id| sex| age|country|province|city|infection_case|infected_by|contact_number|symptom_onset_date|confirmed_date|released_date|deceased_date|state|\n",
            "+----------+----+----+-------+--------+----+--------------+-----------+--------------+------------------+--------------+-------------+-------------+-----+\n",
            "|         0|1122|1380|      0|       0|  94|           919|       3819|          4374|              4475|             3|         3578|         5099|    0|\n",
            "+----------+----+----+-------+--------+----+--------------+-----------+--------------+------------------+--------------+-------------+-------------+-----+\n",
            "\n"
          ]
        }
      ],
      "source": [
        "df.select([count(when(isnull(c), c)).alias(c) for c in df.columns]).show()"
      ]
    },
    {
      "cell_type": "markdown",
      "id": "c3133f5a",
      "metadata": {
        "id": "c3133f5a"
      },
      "source": [
        "## Data preprocessing"
      ]
    },
    {
      "cell_type": "markdown",
      "id": "ec32fa0c",
      "metadata": {
        "id": "ec32fa0c"
      },
      "source": [
        "### Fill the nulls in the deceased_date with the released_date. \n",
        "- You can use <b>coalesce</b> function"
      ]
    },
    {
      "cell_type": "code",
      "source": [
        "df.select(\"deceased_date\").show() "
      ],
      "metadata": {
        "id": "naK0nYfbuExq",
        "colab": {
          "base_uri": "https://localhost:8080/"
        },
        "outputId": "982429d3-f94e-45d3-bbb5-a60bd89dfd17"
      },
      "id": "naK0nYfbuExq",
      "execution_count": 85,
      "outputs": [
        {
          "output_type": "stream",
          "name": "stdout",
          "text": [
            "+-------------+\n",
            "|deceased_date|\n",
            "+-------------+\n",
            "|         null|\n",
            "|         null|\n",
            "|         null|\n",
            "|         null|\n",
            "|         null|\n",
            "|         null|\n",
            "|         null|\n",
            "|         null|\n",
            "|         null|\n",
            "|         null|\n",
            "|         null|\n",
            "|         null|\n",
            "|         null|\n",
            "|         null|\n",
            "|         null|\n",
            "|         null|\n",
            "|         null|\n",
            "|         null|\n",
            "|         null|\n",
            "|         null|\n",
            "+-------------+\n",
            "only showing top 20 rows\n",
            "\n"
          ]
        }
      ]
    },
    {
      "cell_type": "code",
      "execution_count": 86,
      "id": "d5ba64f9",
      "metadata": {
        "id": "d5ba64f9",
        "colab": {
          "base_uri": "https://localhost:8080/"
        },
        "outputId": "55f948af-677f-4dfd-b017-2f7c0ebbf04a"
      },
      "outputs": [
        {
          "output_type": "stream",
          "name": "stdout",
          "text": [
            "+-------------------+\n",
            "|      released_date|\n",
            "+-------------------+\n",
            "|2020-02-05 00:00:00|\n",
            "|2020-03-02 00:00:00|\n",
            "|2020-02-19 00:00:00|\n",
            "|2020-02-15 00:00:00|\n",
            "|2020-02-24 00:00:00|\n",
            "|2020-02-19 00:00:00|\n",
            "|2020-02-10 00:00:00|\n",
            "|2020-02-24 00:00:00|\n",
            "|2020-02-21 00:00:00|\n",
            "|2020-02-29 00:00:00|\n",
            "|2020-02-29 00:00:00|\n",
            "|2020-02-27 00:00:00|\n",
            "|               null|\n",
            "|2020-03-12 00:00:00|\n",
            "|               null|\n",
            "|2020-03-11 00:00:00|\n",
            "|2020-03-01 00:00:00|\n",
            "|               null|\n",
            "|2020-03-08 00:00:00|\n",
            "|               null|\n",
            "+-------------------+\n",
            "only showing top 20 rows\n",
            "\n"
          ]
        }
      ],
      "source": [
        "df.select(\"released_date\").show()"
      ]
    },
    {
      "cell_type": "code",
      "source": [
        "df=df.withColumn(\"deceased_date\",coalesce(df.released_date,df.deceased_date))"
      ],
      "metadata": {
        "id": "F4MdKDG-t-f6"
      },
      "id": "F4MdKDG-t-f6",
      "execution_count": 87,
      "outputs": []
    },
    {
      "cell_type": "code",
      "source": [
        "df.printSchema()"
      ],
      "metadata": {
        "id": "YiMk68VAxJl-",
        "colab": {
          "base_uri": "https://localhost:8080/"
        },
        "outputId": "45bbf0b3-c16b-4278-eac0-02464209c01f"
      },
      "id": "YiMk68VAxJl-",
      "execution_count": 88,
      "outputs": [
        {
          "output_type": "stream",
          "name": "stdout",
          "text": [
            "root\n",
            " |-- patient_id: long (nullable = true)\n",
            " |-- sex: string (nullable = true)\n",
            " |-- age: string (nullable = true)\n",
            " |-- country: string (nullable = true)\n",
            " |-- province: string (nullable = true)\n",
            " |-- city: string (nullable = true)\n",
            " |-- infection_case: string (nullable = true)\n",
            " |-- infected_by: string (nullable = true)\n",
            " |-- contact_number: string (nullable = true)\n",
            " |-- symptom_onset_date: string (nullable = true)\n",
            " |-- confirmed_date: timestamp (nullable = true)\n",
            " |-- released_date: timestamp (nullable = true)\n",
            " |-- deceased_date: timestamp (nullable = true)\n",
            " |-- state: string (nullable = true)\n",
            "\n"
          ]
        }
      ]
    },
    {
      "cell_type": "markdown",
      "id": "4ec324f5",
      "metadata": {
        "id": "4ec324f5"
      },
      "source": [
        "### Add a column named no_days which is difference between the deceased_date and the confirmed_date then show the top 5 rows. Print the schema.\n",
        "- <b> Hint: You need to typecast these columns as date first <b>"
      ]
    },
    {
      "cell_type": "code",
      "execution_count": 89,
      "id": "d065e472",
      "metadata": {
        "id": "d065e472",
        "colab": {
          "base_uri": "https://localhost:8080/"
        },
        "outputId": "4375c358-f8d0-426d-f325-ba05392ff519"
      },
      "outputs": [
        {
          "output_type": "stream",
          "name": "stdout",
          "text": [
            "+-------------------+-------------------+\n",
            "|     confirmed_date|      deceased_date|\n",
            "+-------------------+-------------------+\n",
            "|2020-01-23 00:00:00|2020-02-05 00:00:00|\n",
            "|2020-01-30 00:00:00|2020-03-02 00:00:00|\n",
            "|2020-01-30 00:00:00|2020-02-19 00:00:00|\n",
            "|2020-01-30 00:00:00|2020-02-15 00:00:00|\n",
            "|2020-01-31 00:00:00|2020-02-24 00:00:00|\n",
            "|2020-01-31 00:00:00|2020-02-19 00:00:00|\n",
            "|2020-01-31 00:00:00|2020-02-10 00:00:00|\n",
            "|2020-02-02 00:00:00|2020-02-24 00:00:00|\n",
            "|2020-02-05 00:00:00|2020-02-21 00:00:00|\n",
            "|2020-02-05 00:00:00|2020-02-29 00:00:00|\n",
            "|2020-02-06 00:00:00|2020-02-29 00:00:00|\n",
            "|2020-02-07 00:00:00|2020-02-27 00:00:00|\n",
            "|2020-02-16 00:00:00|               null|\n",
            "|2020-02-16 00:00:00|2020-03-12 00:00:00|\n",
            "|2020-02-19 00:00:00|               null|\n",
            "|2020-02-19 00:00:00|2020-03-11 00:00:00|\n",
            "|2020-02-20 00:00:00|2020-03-01 00:00:00|\n",
            "|2020-02-20 00:00:00|               null|\n",
            "|2020-02-20 00:00:00|2020-03-08 00:00:00|\n",
            "|2020-02-20 00:00:00|               null|\n",
            "+-------------------+-------------------+\n",
            "only showing top 20 rows\n",
            "\n"
          ]
        }
      ],
      "source": [
        "\n",
        "df.select(\"confirmed_date\",\"deceased_date\").show()"
      ]
    },
    {
      "cell_type": "code",
      "source": [
        "#casting dates\n",
        "df=df.withColumn(\"confirmed_date\",to_timestamp(col(\"confirmed_date\"),\"mm/dd/yyyy\"))\n",
        "df=df.withColumn(\"deceased_date\",to_timestamp(col(\"deceased_date\"),\"mm/dd/yyyy\"))"
      ],
      "metadata": {
        "id": "J5v85cBuwdJQ"
      },
      "id": "J5v85cBuwdJQ",
      "execution_count": 90,
      "outputs": []
    },
    {
      "cell_type": "code",
      "source": [
        "#difference between confirmed_date,deceased_date\n",
        "df=df.withColumn(\"no_days\",datediff(col(\"deceased_date\"),col(\"confirmed_date\")))"
      ],
      "metadata": {
        "id": "XowQ4gOfxykD"
      },
      "id": "XowQ4gOfxykD",
      "execution_count": 91,
      "outputs": []
    },
    {
      "cell_type": "code",
      "source": [
        "df.printSchema()"
      ],
      "metadata": {
        "id": "nu-OfP1tytG9",
        "colab": {
          "base_uri": "https://localhost:8080/"
        },
        "outputId": "1fb10e79-9075-4356-a848-948bc2fc812c"
      },
      "id": "nu-OfP1tytG9",
      "execution_count": 92,
      "outputs": [
        {
          "output_type": "stream",
          "name": "stdout",
          "text": [
            "root\n",
            " |-- patient_id: long (nullable = true)\n",
            " |-- sex: string (nullable = true)\n",
            " |-- age: string (nullable = true)\n",
            " |-- country: string (nullable = true)\n",
            " |-- province: string (nullable = true)\n",
            " |-- city: string (nullable = true)\n",
            " |-- infection_case: string (nullable = true)\n",
            " |-- infected_by: string (nullable = true)\n",
            " |-- contact_number: string (nullable = true)\n",
            " |-- symptom_onset_date: string (nullable = true)\n",
            " |-- confirmed_date: timestamp (nullable = true)\n",
            " |-- released_date: timestamp (nullable = true)\n",
            " |-- deceased_date: timestamp (nullable = true)\n",
            " |-- state: string (nullable = true)\n",
            " |-- no_days: integer (nullable = true)\n",
            "\n"
          ]
        }
      ]
    },
    {
      "cell_type": "markdown",
      "id": "967b2466",
      "metadata": {
        "id": "967b2466"
      },
      "source": [
        "### Add a is_male column if male then it should yield true, else then False"
      ]
    },
    {
      "cell_type": "code",
      "execution_count": 93,
      "id": "8efe03b5",
      "metadata": {
        "id": "8efe03b5",
        "colab": {
          "base_uri": "https://localhost:8080/"
        },
        "outputId": "88de53d3-be31-43dd-e054-4d834d03c385"
      },
      "outputs": [
        {
          "output_type": "stream",
          "name": "stdout",
          "text": [
            "+------+\n",
            "|   sex|\n",
            "+------+\n",
            "|  male|\n",
            "|  male|\n",
            "|  male|\n",
            "|  male|\n",
            "|female|\n",
            "|female|\n",
            "|  male|\n",
            "|  male|\n",
            "|  male|\n",
            "|female|\n",
            "|female|\n",
            "|  male|\n",
            "|  male|\n",
            "|female|\n",
            "|  male|\n",
            "|  male|\n",
            "|  male|\n",
            "|  male|\n",
            "|female|\n",
            "|female|\n",
            "+------+\n",
            "only showing top 20 rows\n",
            "\n"
          ]
        }
      ],
      "source": [
        "df.select(\"sex\").show()"
      ]
    },
    {
      "cell_type": "code",
      "source": [
        "df=df.withColumn(\"is_male\",when(col(\"sex\")==\"male\",1).otherwise(when(col(\"sex\")==\"female\",0)))"
      ],
      "metadata": {
        "id": "klw8y-mEzOaj"
      },
      "id": "klw8y-mEzOaj",
      "execution_count": 94,
      "outputs": []
    },
    {
      "cell_type": "code",
      "source": [
        "df.select(\"is_male\").show()"
      ],
      "metadata": {
        "id": "WT1dx6Cb0tSr",
        "colab": {
          "base_uri": "https://localhost:8080/"
        },
        "outputId": "a3e2f649-e75f-4ef4-cb09-a6e2a02d9a20"
      },
      "id": "WT1dx6Cb0tSr",
      "execution_count": 95,
      "outputs": [
        {
          "output_type": "stream",
          "name": "stdout",
          "text": [
            "+-------+\n",
            "|is_male|\n",
            "+-------+\n",
            "|      1|\n",
            "|      1|\n",
            "|      1|\n",
            "|      1|\n",
            "|      0|\n",
            "|      0|\n",
            "|      1|\n",
            "|      1|\n",
            "|      1|\n",
            "|      0|\n",
            "|      0|\n",
            "|      1|\n",
            "|      1|\n",
            "|      0|\n",
            "|      1|\n",
            "|      1|\n",
            "|      1|\n",
            "|      1|\n",
            "|      0|\n",
            "|      0|\n",
            "+-------+\n",
            "only showing top 20 rows\n",
            "\n"
          ]
        }
      ]
    },
    {
      "cell_type": "markdown",
      "id": "8603d7c0",
      "metadata": {
        "id": "8603d7c0"
      },
      "source": [
        "### Add a is_dead column if patient state is not released then it should yield true, else then False\n",
        "\n",
        "- Use <b>UDF</b> to perform this task. \n",
        "- However, UDF is not recommended there is no built in function can do the required operation.\n",
        "- UDF is slower than built in functions."
      ]
    },
    {
      "cell_type": "code",
      "source": [
        "df.select(\"state\").show()"
      ],
      "metadata": {
        "id": "qbpCmIis3iVV",
        "colab": {
          "base_uri": "https://localhost:8080/"
        },
        "outputId": "c07e7e95-72ed-4375-91ae-bbba066eef13"
      },
      "id": "qbpCmIis3iVV",
      "execution_count": 96,
      "outputs": [
        {
          "output_type": "stream",
          "name": "stdout",
          "text": [
            "+--------+\n",
            "|   state|\n",
            "+--------+\n",
            "|released|\n",
            "|released|\n",
            "|released|\n",
            "|released|\n",
            "|released|\n",
            "|released|\n",
            "|released|\n",
            "|released|\n",
            "|released|\n",
            "|released|\n",
            "|released|\n",
            "|released|\n",
            "|deceased|\n",
            "|released|\n",
            "|released|\n",
            "|released|\n",
            "|released|\n",
            "|released|\n",
            "|released|\n",
            "|released|\n",
            "+--------+\n",
            "only showing top 20 rows\n",
            "\n"
          ]
        }
      ]
    },
    {
      "cell_type": "code",
      "execution_count": 97,
      "id": "d3343075",
      "metadata": {
        "id": "d3343075",
        "colab": {
          "base_uri": "https://localhost:8080/"
        },
        "outputId": "0f2d801d-49fe-407d-ef92-c277de3af7f7"
      },
      "outputs": [
        {
          "output_type": "stream",
          "name": "stdout",
          "text": [
            "root\n",
            " |-- patient_id: long (nullable = true)\n",
            " |-- sex: string (nullable = true)\n",
            " |-- age: string (nullable = true)\n",
            " |-- country: string (nullable = true)\n",
            " |-- province: string (nullable = true)\n",
            " |-- city: string (nullable = true)\n",
            " |-- infection_case: string (nullable = true)\n",
            " |-- infected_by: string (nullable = true)\n",
            " |-- contact_number: string (nullable = true)\n",
            " |-- symptom_onset_date: string (nullable = true)\n",
            " |-- confirmed_date: timestamp (nullable = true)\n",
            " |-- released_date: timestamp (nullable = true)\n",
            " |-- deceased_date: timestamp (nullable = true)\n",
            " |-- state: string (nullable = true)\n",
            " |-- no_days: integer (nullable = true)\n",
            " |-- is_male: integer (nullable = true)\n",
            " |-- is_dead: integer (nullable = false)\n",
            "\n"
          ]
        }
      ],
      "source": [
        "df=df.withColumn(\"is_dead\",when(col(\"state\")!=\"released\",1).otherwise(0))\n",
        "df.printSchema()"
      ]
    },
    {
      "cell_type": "code",
      "source": [
        "df.select(\"is_dead\",\"state\").show()"
      ],
      "metadata": {
        "id": "-mL0wwq75HHm",
        "colab": {
          "base_uri": "https://localhost:8080/"
        },
        "outputId": "91a8903d-e32f-43e8-ad75-be25d9238d27"
      },
      "id": "-mL0wwq75HHm",
      "execution_count": 98,
      "outputs": [
        {
          "output_type": "stream",
          "name": "stdout",
          "text": [
            "+-------+--------+\n",
            "|is_dead|   state|\n",
            "+-------+--------+\n",
            "|      0|released|\n",
            "|      0|released|\n",
            "|      0|released|\n",
            "|      0|released|\n",
            "|      0|released|\n",
            "|      0|released|\n",
            "|      0|released|\n",
            "|      0|released|\n",
            "|      0|released|\n",
            "|      0|released|\n",
            "|      0|released|\n",
            "|      0|released|\n",
            "|      1|deceased|\n",
            "|      0|released|\n",
            "|      0|released|\n",
            "|      0|released|\n",
            "|      0|released|\n",
            "|      0|released|\n",
            "|      0|released|\n",
            "|      0|released|\n",
            "+-------+--------+\n",
            "only showing top 20 rows\n",
            "\n"
          ]
        }
      ]
    },
    {
      "cell_type": "markdown",
      "id": "e15264a9",
      "metadata": {
        "id": "e15264a9"
      },
      "source": [
        "### Change the ages to bins from 10s, 0s, 10s, 20s,.etc to 0,10, 20"
      ]
    },
    {
      "cell_type": "code",
      "source": [
        "# def removeChar(str):\n",
        "#   if str==None:\n",
        "#     return None\n",
        "#   return int(str.replace(\"s\",\"\"))"
      ],
      "metadata": {
        "id": "0ReN-3Yj9Jib"
      },
      "id": "0ReN-3Yj9Jib",
      "execution_count": 99,
      "outputs": []
    },
    {
      "cell_type": "code",
      "source": [
        "# from pyspark.sql.types import IntegerType\n",
        "# convertUDF = udf(removeChar,IntegerType())"
      ],
      "metadata": {
        "id": "lyqAI3db-LjB"
      },
      "id": "lyqAI3db-LjB",
      "execution_count": 100,
      "outputs": []
    },
    {
      "cell_type": "code",
      "execution_count": 101,
      "id": "7a2b57ed",
      "metadata": {
        "id": "7a2b57ed"
      },
      "outputs": [],
      "source": [
        "df=df.withColumn(\"age2\",translate(col(\"age\"),\"s\",\"\"))"
      ]
    },
    {
      "cell_type": "code",
      "source": [
        "df.printSchema()"
      ],
      "metadata": {
        "id": "gBeBXWZQXWE8",
        "colab": {
          "base_uri": "https://localhost:8080/"
        },
        "outputId": "baedce82-704b-46dc-e9e8-6e3109f1054c"
      },
      "id": "gBeBXWZQXWE8",
      "execution_count": 102,
      "outputs": [
        {
          "output_type": "stream",
          "name": "stdout",
          "text": [
            "root\n",
            " |-- patient_id: long (nullable = true)\n",
            " |-- sex: string (nullable = true)\n",
            " |-- age: string (nullable = true)\n",
            " |-- country: string (nullable = true)\n",
            " |-- province: string (nullable = true)\n",
            " |-- city: string (nullable = true)\n",
            " |-- infection_case: string (nullable = true)\n",
            " |-- infected_by: string (nullable = true)\n",
            " |-- contact_number: string (nullable = true)\n",
            " |-- symptom_onset_date: string (nullable = true)\n",
            " |-- confirmed_date: timestamp (nullable = true)\n",
            " |-- released_date: timestamp (nullable = true)\n",
            " |-- deceased_date: timestamp (nullable = true)\n",
            " |-- state: string (nullable = true)\n",
            " |-- no_days: integer (nullable = true)\n",
            " |-- is_male: integer (nullable = true)\n",
            " |-- is_dead: integer (nullable = false)\n",
            " |-- age2: string (nullable = true)\n",
            "\n"
          ]
        }
      ]
    },
    {
      "cell_type": "code",
      "source": [
        "df.select(\"age2\").show()"
      ],
      "metadata": {
        "id": "avNUpvdb-oBr",
        "colab": {
          "base_uri": "https://localhost:8080/"
        },
        "outputId": "9eecc487-a5d6-4a97-c160-2af67d215d48"
      },
      "id": "avNUpvdb-oBr",
      "execution_count": 103,
      "outputs": [
        {
          "output_type": "stream",
          "name": "stdout",
          "text": [
            "+----+\n",
            "|age2|\n",
            "+----+\n",
            "|  50|\n",
            "|  30|\n",
            "|  50|\n",
            "|  20|\n",
            "|  20|\n",
            "|  50|\n",
            "|  20|\n",
            "|  20|\n",
            "|  30|\n",
            "|  60|\n",
            "|  50|\n",
            "|  20|\n",
            "|  80|\n",
            "|  60|\n",
            "|  70|\n",
            "|  70|\n",
            "|  70|\n",
            "|  20|\n",
            "|  70|\n",
            "|  70|\n",
            "+----+\n",
            "only showing top 20 rows\n",
            "\n"
          ]
        }
      ]
    },
    {
      "cell_type": "markdown",
      "id": "43cdf846",
      "metadata": {
        "id": "43cdf846"
      },
      "source": [
        "### Change age, and no_days  to be typecasted as Double"
      ]
    },
    {
      "cell_type": "code",
      "execution_count": 104,
      "id": "dfea7fcb",
      "metadata": {
        "id": "dfea7fcb",
        "colab": {
          "base_uri": "https://localhost:8080/"
        },
        "outputId": "d0633cb9-9316-4dd6-ff0a-d74675451803"
      },
      "outputs": [
        {
          "output_type": "stream",
          "name": "stdout",
          "text": [
            "+----+-------+\n",
            "|age2|no_days|\n",
            "+----+-------+\n",
            "|  50|     13|\n",
            "|  30|     32|\n",
            "|  50|     20|\n",
            "|  20|     16|\n",
            "|  20|     24|\n",
            "|  50|     19|\n",
            "|  20|     10|\n",
            "|  20|     22|\n",
            "|  30|     16|\n",
            "|  60|     24|\n",
            "|  50|     23|\n",
            "|  20|     20|\n",
            "|  80|   null|\n",
            "|  60|     25|\n",
            "|  70|   null|\n",
            "|  70|     21|\n",
            "|  70|     10|\n",
            "|  20|   null|\n",
            "|  70|     17|\n",
            "|  70|   null|\n",
            "+----+-------+\n",
            "only showing top 20 rows\n",
            "\n"
          ]
        }
      ],
      "source": [
        "df.select(\"age2\",\"no_days\").show()"
      ]
    },
    {
      "cell_type": "code",
      "source": [
        "df=df.withColumn(\"age2\",fn.col('age2').cast(DoubleType()))\n",
        "df=df.withColumn(\"no_days\",fn.col('no_days').cast(DoubleType()))"
      ],
      "metadata": {
        "id": "itOrJ-FFB4XA"
      },
      "id": "itOrJ-FFB4XA",
      "execution_count": 105,
      "outputs": []
    },
    {
      "cell_type": "code",
      "source": [
        "df.show(5)"
      ],
      "metadata": {
        "id": "tgPxCVcuTnkc",
        "colab": {
          "base_uri": "https://localhost:8080/"
        },
        "outputId": "b02f95fd-31c5-4cda-b9dc-9836baf93a2f"
      },
      "id": "tgPxCVcuTnkc",
      "execution_count": 106,
      "outputs": [
        {
          "output_type": "stream",
          "name": "stdout",
          "text": [
            "+----------+------+---+-------+--------+-----------+--------------------+-----------+--------------+------------------+-------------------+-------------------+-------------------+--------+-------+-------+-------+----+\n",
            "|patient_id|   sex|age|country|province|       city|      infection_case|infected_by|contact_number|symptom_onset_date|     confirmed_date|      released_date|      deceased_date|   state|no_days|is_male|is_dead|age2|\n",
            "+----------+------+---+-------+--------+-----------+--------------------+-----------+--------------+------------------+-------------------+-------------------+-------------------+--------+-------+-------+-------+----+\n",
            "|1000000001|  male|50s|  Korea|   Seoul| Gangseo-gu|     overseas inflow|       null|            75|        2020-01-22|2020-01-23 00:00:00|2020-02-05 00:00:00|2020-02-05 00:00:00|released|   13.0|      1|      0|50.0|\n",
            "|1000000002|  male|30s|  Korea|   Seoul|Jungnang-gu|     overseas inflow|       null|            31|              null|2020-01-30 00:00:00|2020-03-02 00:00:00|2020-03-02 00:00:00|released|   32.0|      1|      0|30.0|\n",
            "|1000000003|  male|50s|  Korea|   Seoul|  Jongno-gu|contact with patient| 2002000001|            17|              null|2020-01-30 00:00:00|2020-02-19 00:00:00|2020-02-19 00:00:00|released|   20.0|      1|      0|50.0|\n",
            "|1000000004|  male|20s|  Korea|   Seoul|    Mapo-gu|     overseas inflow|       null|             9|        2020-01-26|2020-01-30 00:00:00|2020-02-15 00:00:00|2020-02-15 00:00:00|released|   16.0|      1|      0|20.0|\n",
            "|1000000005|female|20s|  Korea|   Seoul|Seongbuk-gu|contact with patient| 1000000002|             2|              null|2020-01-31 00:00:00|2020-02-24 00:00:00|2020-02-24 00:00:00|released|   24.0|      0|      0|20.0|\n",
            "+----------+------+---+-------+--------+-----------+--------------------+-----------+--------------+------------------+-------------------+-------------------+-------------------+--------+-------+-------+-------+----+\n",
            "only showing top 5 rows\n",
            "\n"
          ]
        }
      ]
    },
    {
      "cell_type": "code",
      "source": [
        "df.printSchema()"
      ],
      "metadata": {
        "id": "_PIJ8uYJCY9p",
        "colab": {
          "base_uri": "https://localhost:8080/"
        },
        "outputId": "af914730-64f0-4996-b25e-870f3cf56888"
      },
      "id": "_PIJ8uYJCY9p",
      "execution_count": 107,
      "outputs": [
        {
          "output_type": "stream",
          "name": "stdout",
          "text": [
            "root\n",
            " |-- patient_id: long (nullable = true)\n",
            " |-- sex: string (nullable = true)\n",
            " |-- age: string (nullable = true)\n",
            " |-- country: string (nullable = true)\n",
            " |-- province: string (nullable = true)\n",
            " |-- city: string (nullable = true)\n",
            " |-- infection_case: string (nullable = true)\n",
            " |-- infected_by: string (nullable = true)\n",
            " |-- contact_number: string (nullable = true)\n",
            " |-- symptom_onset_date: string (nullable = true)\n",
            " |-- confirmed_date: timestamp (nullable = true)\n",
            " |-- released_date: timestamp (nullable = true)\n",
            " |-- deceased_date: timestamp (nullable = true)\n",
            " |-- state: string (nullable = true)\n",
            " |-- no_days: double (nullable = true)\n",
            " |-- is_male: integer (nullable = true)\n",
            " |-- is_dead: integer (nullable = false)\n",
            " |-- age2: double (nullable = true)\n",
            "\n"
          ]
        }
      ]
    },
    {
      "cell_type": "markdown",
      "id": "d31e3a87",
      "metadata": {
        "id": "d31e3a87"
      },
      "source": [
        "### Drop the columns\n",
        "[\"patient_id\",\"sex\",\"infected_by\",\"contact_number\",\"released_date\",\"state\",\n",
        "\"symptom_onset_date\",\"confirmed_date\",\"deceased_date\",\"country\",\"no_days\",\n",
        "\"city\",\"infection_case\"]"
      ]
    },
    {
      "cell_type": "code",
      "execution_count": 108,
      "id": "3ae0c428",
      "metadata": {
        "id": "3ae0c428"
      },
      "outputs": [],
      "source": [
        "selected_col=[\"patient_id\",\"sex\",\"infected_by\",\"contact_number\",\"released_date\",\"state\", \"symptom_onset_date\",\"confirmed_date\",\"deceased_date\",\"country\",\"no_days\", \"city\",\"infection_case\"]\n",
        "df=df.drop(*selected_col)"
      ]
    },
    {
      "cell_type": "code",
      "source": [
        "df.printSchema()"
      ],
      "metadata": {
        "id": "YnRuhvOnG102",
        "colab": {
          "base_uri": "https://localhost:8080/"
        },
        "outputId": "05a9ee8f-76e7-455b-a853-a8d0c6d8ee7d"
      },
      "id": "YnRuhvOnG102",
      "execution_count": 109,
      "outputs": [
        {
          "output_type": "stream",
          "name": "stdout",
          "text": [
            "root\n",
            " |-- age: string (nullable = true)\n",
            " |-- province: string (nullable = true)\n",
            " |-- is_male: integer (nullable = true)\n",
            " |-- is_dead: integer (nullable = false)\n",
            " |-- age2: double (nullable = true)\n",
            "\n"
          ]
        }
      ]
    },
    {
      "cell_type": "markdown",
      "id": "32df47a6",
      "metadata": {
        "id": "32df47a6"
      },
      "source": [
        "### Recount the number of nulls now"
      ]
    },
    {
      "cell_type": "code",
      "execution_count": 110,
      "id": "6d66eaa7",
      "metadata": {
        "id": "6d66eaa7",
        "colab": {
          "base_uri": "https://localhost:8080/"
        },
        "outputId": "3cad5ebb-4282-4736-aca0-1a1eba3e7b19"
      },
      "outputs": [
        {
          "output_type": "stream",
          "name": "stdout",
          "text": [
            "+----+--------+-------+-------+----+\n",
            "| age|province|is_male|is_dead|age2|\n",
            "+----+--------+-------+-------+----+\n",
            "|1380|       0|   1122|      0|1380|\n",
            "+----+--------+-------+-------+----+\n",
            "\n"
          ]
        }
      ],
      "source": [
        "df.select([count(when(isnull(c), c)).alias(c) for c in df.columns]).show()"
      ]
    },
    {
      "cell_type": "code",
      "source": [
        ""
      ],
      "metadata": {
        "id": "R4KS-uC7bwY7"
      },
      "id": "R4KS-uC7bwY7",
      "execution_count": 110,
      "outputs": []
    },
    {
      "cell_type": "code",
      "source": [
        ""
      ],
      "metadata": {
        "id": "AVDSauGXb_g2"
      },
      "id": "AVDSauGXb_g2",
      "execution_count": 110,
      "outputs": []
    },
    {
      "cell_type": "code",
      "source": [
        ""
      ],
      "metadata": {
        "id": "GE-SMMdY1FGf"
      },
      "id": "GE-SMMdY1FGf",
      "execution_count": 110,
      "outputs": []
    },
    {
      "cell_type": "code",
      "source": [
        "df.select([count(when(isnull(c), c)).alias(c) for c in df.columns]).show()"
      ],
      "metadata": {
        "id": "4Oi6GuJlcJ_t",
        "colab": {
          "base_uri": "https://localhost:8080/"
        },
        "outputId": "0ffb9c1d-e803-4145-896f-3ace2999a9db"
      },
      "id": "4Oi6GuJlcJ_t",
      "execution_count": 111,
      "outputs": [
        {
          "output_type": "stream",
          "name": "stdout",
          "text": [
            "+----+--------+-------+-------+----+\n",
            "| age|province|is_male|is_dead|age2|\n",
            "+----+--------+-------+-------+----+\n",
            "|1380|       0|   1122|      0|1380|\n",
            "+----+--------+-------+-------+----+\n",
            "\n"
          ]
        }
      ]
    },
    {
      "cell_type": "code",
      "source": [
        "df=df.filter(col(\"is_male\").isNotNull())"
      ],
      "metadata": {
        "id": "MSEfeGnu6lCT"
      },
      "id": "MSEfeGnu6lCT",
      "execution_count": 112,
      "outputs": []
    },
    {
      "cell_type": "code",
      "source": [
        "df=df.drop(col(\"age\"))"
      ],
      "metadata": {
        "id": "l6xAuNH-7ddB"
      },
      "id": "l6xAuNH-7ddB",
      "execution_count": 48,
      "outputs": []
    },
    {
      "cell_type": "code",
      "source": [
        "df.printSchema()"
      ],
      "metadata": {
        "colab": {
          "base_uri": "https://localhost:8080/"
        },
        "id": "rbeHr8767aaH",
        "outputId": "370bf72e-7990-4d1c-9179-0b5fd1d82686"
      },
      "id": "rbeHr8767aaH",
      "execution_count": 49,
      "outputs": [
        {
          "output_type": "stream",
          "name": "stdout",
          "text": [
            "root\n",
            " |-- province: string (nullable = true)\n",
            " |-- is_male: integer (nullable = true)\n",
            " |-- is_dead: integer (nullable = false)\n",
            " |-- age2: double (nullable = true)\n",
            "\n"
          ]
        }
      ]
    },
    {
      "cell_type": "markdown",
      "id": "cc71f158",
      "metadata": {
        "id": "cc71f158"
      },
      "source": [
        "## Now do the same but using SQL select statement"
      ]
    },
    {
      "cell_type": "markdown",
      "id": "1d540282",
      "metadata": {
        "id": "1d540282"
      },
      "source": [
        "### From the original Patient DataFrame, Create a temporary view (table)."
      ]
    },
    {
      "cell_type": "code",
      "execution_count": 152,
      "id": "cf56099f",
      "metadata": {
        "id": "cf56099f"
      },
      "outputs": [],
      "source": [
        "data=spark.read.csv(\"/content/drive/MyDrive/Spark_data/data/PatientInfo.csv\",header=True,inferSchema=True)"
      ]
    },
    {
      "cell_type": "markdown",
      "id": "cb004277",
      "metadata": {
        "id": "cb004277"
      },
      "source": [
        "### Use SELECT statement to select all columns from the dataframe and show the output."
      ]
    },
    {
      "cell_type": "code",
      "execution_count": 156,
      "id": "12ae8226",
      "metadata": {
        "scrolled": false,
        "id": "12ae8226"
      },
      "outputs": [],
      "source": [
        "data.createOrReplaceTempView(\"data_view\")"
      ]
    },
    {
      "cell_type": "markdown",
      "id": "e0da4318",
      "metadata": {
        "id": "e0da4318"
      },
      "source": [
        "### *Using SQL commands*, limit the output to only 5 rows "
      ]
    },
    {
      "cell_type": "code",
      "execution_count": 53,
      "id": "97911bdd",
      "metadata": {
        "id": "97911bdd",
        "colab": {
          "base_uri": "https://localhost:8080/"
        },
        "outputId": "a4d59c75-fa0a-476b-d00a-42fb9a1580d1"
      },
      "outputs": [
        {
          "output_type": "stream",
          "name": "stdout",
          "text": [
            "+----------+------+---+-------+--------+-----------+--------------------+-----------+--------------+------------------+-------------------+-------------------+-------------+--------+\n",
            "|patient_id|   sex|age|country|province|       city|      infection_case|infected_by|contact_number|symptom_onset_date|     confirmed_date|      released_date|deceased_date|   state|\n",
            "+----------+------+---+-------+--------+-----------+--------------------+-----------+--------------+------------------+-------------------+-------------------+-------------+--------+\n",
            "|1000000001|  male|50s|  Korea|   Seoul| Gangseo-gu|     overseas inflow|       null|            75|        2020-01-22|2020-01-23 00:00:00|2020-02-05 00:00:00|         null|released|\n",
            "|1000000002|  male|30s|  Korea|   Seoul|Jungnang-gu|     overseas inflow|       null|            31|              null|2020-01-30 00:00:00|2020-03-02 00:00:00|         null|released|\n",
            "|1000000003|  male|50s|  Korea|   Seoul|  Jongno-gu|contact with patient| 2002000001|            17|              null|2020-01-30 00:00:00|2020-02-19 00:00:00|         null|released|\n",
            "|1000000004|  male|20s|  Korea|   Seoul|    Mapo-gu|     overseas inflow|       null|             9|        2020-01-26|2020-01-30 00:00:00|2020-02-15 00:00:00|         null|released|\n",
            "|1000000005|female|20s|  Korea|   Seoul|Seongbuk-gu|contact with patient| 1000000002|             2|              null|2020-01-31 00:00:00|2020-02-24 00:00:00|         null|released|\n",
            "+----------+------+---+-------+--------+-----------+--------------------+-----------+--------------+------------------+-------------------+-------------------+-------------+--------+\n",
            "\n"
          ]
        }
      ],
      "source": [
        "spark.sql(\"select * from data_view limit(5)\").show()"
      ]
    },
    {
      "cell_type": "markdown",
      "id": "b70edf17",
      "metadata": {
        "id": "b70edf17"
      },
      "source": [
        "### Select the count of males and females in the dataset"
      ]
    },
    {
      "cell_type": "code",
      "execution_count": 120,
      "id": "00e9fd65",
      "metadata": {
        "id": "00e9fd65",
        "colab": {
          "base_uri": "https://localhost:8080/"
        },
        "outputId": "2dab3742-f405-4607-a1c3-c7d0689319eb"
      },
      "outputs": [
        {
          "output_type": "stream",
          "name": "stdout",
          "text": [
            "+--------+\n",
            "|cnt_male|\n",
            "+--------+\n",
            "|    1825|\n",
            "+--------+\n",
            "\n"
          ]
        }
      ],
      "source": [
        "spark.sql(\"select count(sex) as cnt_male  from data_view where  sex='male' \").show()"
      ]
    },
    {
      "cell_type": "code",
      "source": [
        "spark.sql(\"select count(sex)  as cnt_female from data_view where  sex='female' \").show()"
      ],
      "metadata": {
        "colab": {
          "base_uri": "https://localhost:8080/"
        },
        "id": "vvw1VirNBYUN",
        "outputId": "786b6dfa-9892-4f13-9e5b-80d8ae1615e2"
      },
      "id": "vvw1VirNBYUN",
      "execution_count": 119,
      "outputs": [
        {
          "output_type": "stream",
          "name": "stdout",
          "text": [
            "+----------+\n",
            "|cnt_female|\n",
            "+----------+\n",
            "|      2218|\n",
            "+----------+\n",
            "\n"
          ]
        }
      ]
    },
    {
      "cell_type": "markdown",
      "id": "73683674",
      "metadata": {
        "id": "73683674"
      },
      "source": [
        "### How many people did survive, and how many didn't?"
      ]
    },
    {
      "cell_type": "code",
      "execution_count": 124,
      "id": "1e5a3908",
      "metadata": {
        "id": "1e5a3908",
        "colab": {
          "base_uri": "https://localhost:8080/"
        },
        "outputId": "156ac3dc-268f-4292-bacc-3ece1f538908"
      },
      "outputs": [
        {
          "output_type": "stream",
          "name": "stdout",
          "text": [
            "+--------+\n",
            "|survived|\n",
            "+--------+\n",
            "|    2929|\n",
            "+--------+\n",
            "\n"
          ]
        }
      ],
      "source": [
        "spark.sql(\"select count(state) as survived  from data_view where state=='released' \").show()"
      ]
    },
    {
      "cell_type": "code",
      "source": [
        "spark.sql(\"select count(state) as dead  from data_view where (state=='isolated' or state== 'deceased') \").show()"
      ],
      "metadata": {
        "colab": {
          "base_uri": "https://localhost:8080/"
        },
        "id": "tXbtq18VLHt0",
        "outputId": "f750f330-8195-4561-b3bd-e77bbccd5a9f"
      },
      "id": "tXbtq18VLHt0",
      "execution_count": 128,
      "outputs": [
        {
          "output_type": "stream",
          "name": "stdout",
          "text": [
            "+----+\n",
            "|dead|\n",
            "+----+\n",
            "|2236|\n",
            "+----+\n",
            "\n"
          ]
        }
      ]
    },
    {
      "cell_type": "markdown",
      "id": "d4424228",
      "metadata": {
        "id": "d4424228"
      },
      "source": [
        "### Now, let's perform some preprocessing using SQL:\n",
        "1. Convert *age* column to double after removing the 's' at the end -- *hint: check SUBSTRING method*\n",
        "2. Select only the following columns: `['sex', 'age', 'province', 'state']`\n",
        "3. Store the result of the query in a new dataframe"
      ]
    },
    {
      "cell_type": "code",
      "execution_count": 166,
      "id": "16994e4d",
      "metadata": {
        "id": "16994e4d"
      },
      "outputs": [],
      "source": [
        "df_sql=spark.sql(\" select sex,CAST(substring(age,1,length(age)-1) as double) as age ,province,state  from data_view\")"
      ]
    },
    {
      "cell_type": "code",
      "source": [
        "df_sql.show()"
      ],
      "metadata": {
        "colab": {
          "base_uri": "https://localhost:8080/"
        },
        "id": "a-mFf5fImlov",
        "outputId": "ee95ae0a-571b-4391-89a5-02ef1ecc9c80"
      },
      "id": "a-mFf5fImlov",
      "execution_count": 167,
      "outputs": [
        {
          "output_type": "stream",
          "name": "stdout",
          "text": [
            "+------+----+--------+--------+\n",
            "|   sex| age|province|   state|\n",
            "+------+----+--------+--------+\n",
            "|  male|50.0|   Seoul|released|\n",
            "|  male|30.0|   Seoul|released|\n",
            "|  male|50.0|   Seoul|released|\n",
            "|  male|20.0|   Seoul|released|\n",
            "|female|20.0|   Seoul|released|\n",
            "|female|50.0|   Seoul|released|\n",
            "|  male|20.0|   Seoul|released|\n",
            "|  male|20.0|   Seoul|released|\n",
            "|  male|30.0|   Seoul|released|\n",
            "|female|60.0|   Seoul|released|\n",
            "|female|50.0|   Seoul|released|\n",
            "|  male|20.0|   Seoul|released|\n",
            "|  male|80.0|   Seoul|deceased|\n",
            "|female|60.0|   Seoul|released|\n",
            "|  male|70.0|   Seoul|released|\n",
            "|  male|70.0|   Seoul|released|\n",
            "|  male|70.0|   Seoul|released|\n",
            "|  male|20.0|   Seoul|released|\n",
            "|female|70.0|   Seoul|released|\n",
            "|female|70.0|   Seoul|released|\n",
            "+------+----+--------+--------+\n",
            "only showing top 20 rows\n",
            "\n"
          ]
        }
      ]
    },
    {
      "cell_type": "markdown",
      "id": "d4a24c24",
      "metadata": {
        "id": "d4a24c24"
      },
      "source": [
        "## Machine Learning \n",
        "### Create a pipeline model to predict is_dead and evaluate the performance.\n",
        "- Use <b>StringIndexer</b> to transform <b>string</b> data type to indices.\n",
        "- Use <b>OneHotEncoder</b> to deal with categorical values.\n",
        "- Use <b>Imputer</b> to fill missing data with mean."
      ]
    },
    {
      "cell_type": "code",
      "source": [
        "traindf,testdf=df.randomSplit([.8,.2],seed=42)"
      ],
      "metadata": {
        "id": "jwwyPl7gLRv1"
      },
      "id": "jwwyPl7gLRv1",
      "execution_count": null,
      "outputs": []
    },
    {
      "cell_type": "code",
      "source": [
        "traindf.show()"
      ],
      "metadata": {
        "id": "O0NJXQ43aX2g",
        "colab": {
          "base_uri": "https://localhost:8080/"
        },
        "outputId": "576630bf-9a95-4e5a-d249-47c034736363"
      },
      "id": "O0NJXQ43aX2g",
      "execution_count": null,
      "outputs": [
        {
          "output_type": "stream",
          "name": "stdout",
          "text": [
            "+--------+-------+-------+----+\n",
            "|province|is_male|is_dead|age2|\n",
            "+--------+-------+-------+----+\n",
            "|   Busan|      0|      0| 0.0|\n",
            "|   Busan|      0|      0| 0.0|\n",
            "|   Busan|      0|      0|10.0|\n",
            "|   Busan|      0|      0|10.0|\n",
            "|   Busan|      0|      0|20.0|\n",
            "|   Busan|      0|      0|20.0|\n",
            "|   Busan|      0|      0|20.0|\n",
            "|   Busan|      0|      0|20.0|\n",
            "|   Busan|      0|      0|20.0|\n",
            "|   Busan|      0|      0|20.0|\n",
            "|   Busan|      0|      0|20.0|\n",
            "|   Busan|      0|      0|20.0|\n",
            "|   Busan|      0|      0|20.0|\n",
            "|   Busan|      0|      0|20.0|\n",
            "|   Busan|      0|      0|20.0|\n",
            "|   Busan|      0|      0|20.0|\n",
            "|   Busan|      0|      0|20.0|\n",
            "|   Busan|      0|      0|30.0|\n",
            "|   Busan|      0|      0|30.0|\n",
            "|   Busan|      0|      0|30.0|\n",
            "+--------+-------+-------+----+\n",
            "only showing top 20 rows\n",
            "\n"
          ]
        }
      ]
    },
    {
      "cell_type": "code",
      "source": [
        "dtypes=df.dtypes\n"
      ],
      "metadata": {
        "id": "eVfSY8SVLKmp"
      },
      "id": "eVfSY8SVLKmp",
      "execution_count": null,
      "outputs": []
    },
    {
      "cell_type": "code",
      "source": [
        "dtypes"
      ],
      "metadata": {
        "id": "yHK4SLGULpz6",
        "colab": {
          "base_uri": "https://localhost:8080/"
        },
        "outputId": "63eaaf06-e5e9-4ca9-e3f1-e062be9ff998"
      },
      "id": "yHK4SLGULpz6",
      "execution_count": null,
      "outputs": [
        {
          "output_type": "execute_result",
          "data": {
            "text/plain": [
              "[('province', 'string'),\n",
              " ('is_male', 'int'),\n",
              " ('is_dead', 'int'),\n",
              " ('age2', 'double')]"
            ]
          },
          "metadata": {},
          "execution_count": 311
        }
      ]
    },
    {
      "cell_type": "code",
      "source": [
        "CATE_TYPE=[f for (f,d) in dtypes if d==\"string\"]\n",
        "CATE_TYPE"
      ],
      "metadata": {
        "id": "NmmuBjITKtjf",
        "colab": {
          "base_uri": "https://localhost:8080/"
        },
        "outputId": "6eac97e4-3b61-4886-97bc-c84586ab4129"
      },
      "id": "NmmuBjITKtjf",
      "execution_count": null,
      "outputs": [
        {
          "output_type": "execute_result",
          "data": {
            "text/plain": [
              "['province']"
            ]
          },
          "metadata": {},
          "execution_count": 312
        }
      ]
    },
    {
      "cell_type": "code",
      "source": [
        "NUM_TYPE=[f for (f,d) in dtypes if d !=\"string\" and f !=\"is_dead\"]\n",
        "NUM_TYPE"
      ],
      "metadata": {
        "id": "837-aH-0L8wm",
        "colab": {
          "base_uri": "https://localhost:8080/"
        },
        "outputId": "c98ff221-19f1-40f9-a8bb-cb2e30369ca6"
      },
      "id": "837-aH-0L8wm",
      "execution_count": null,
      "outputs": [
        {
          "output_type": "execute_result",
          "data": {
            "text/plain": [
              "['is_male', 'age2']"
            ]
          },
          "metadata": {},
          "execution_count": 313
        }
      ]
    },
    {
      "cell_type": "code",
      "source": [
        "inx_out_cat_col=[f+\"_index\" for (f,d) in dtypes if d==\"string\"]"
      ],
      "metadata": {
        "id": "9goFHDlAMzFS"
      },
      "id": "9goFHDlAMzFS",
      "execution_count": null,
      "outputs": []
    },
    {
      "cell_type": "code",
      "source": [
        "OHE_out_cat_col=[f+\"OHE\" for (f,d) in dtypes if d==\"string\"]"
      ],
      "metadata": {
        "id": "fRBcrgwONMUb"
      },
      "id": "fRBcrgwONMUb",
      "execution_count": null,
      "outputs": []
    },
    {
      "cell_type": "code",
      "source": [
        "vector_col_input=inx_out_cat_col+OHE_out_cat_col"
      ],
      "metadata": {
        "id": "Zln46XEeNaxD"
      },
      "id": "Zln46XEeNaxD",
      "execution_count": null,
      "outputs": []
    },
    {
      "cell_type": "code",
      "source": [
        "from pyspark.ml.feature import  StringIndexer,VectorAssembler,OneHotEncoder,Imputer\n",
        "from pyspark.ml.classification import RandomForestClassifier\n",
        "from pyspark.ml.pipeline import Pipeline"
      ],
      "metadata": {
        "id": "2AGdF-ehNrg6"
      },
      "id": "2AGdF-ehNrg6",
      "execution_count": null,
      "outputs": []
    },
    {
      "cell_type": "code",
      "source": [
        "SRITNG_INDEXER=StringIndexer(inputCols=CATE_TYPE,outputCols=inx_out_cat_col,handleInvalid=\"skip\")\n",
        "ONE_HOT_ENCODIN=OneHotEncoder(inputCols=inx_out_cat_col,outputCols=OHE_out_cat_col )\n",
        "VECTOR_ASSEMBLER=VectorAssembler(inputCols=vector_col_input,outputCol=\"features\")\n",
        "imputer = Imputer(inputCols=['age2'], outputCols=['imputed_Age'],strategy=\"mean\")"
      ],
      "metadata": {
        "id": "jwGYnSLHMJ0c"
      },
      "id": "jwGYnSLHMJ0c",
      "execution_count": null,
      "outputs": []
    },
    {
      "cell_type": "code",
      "source": [
        "rf=RandomForestClassifier(numTrees=3, maxDepth=2, labelCol=\"is_dead\", seed=42,predictionCol=\"prediction\")"
      ],
      "metadata": {
        "id": "fEHTDhoZOI_2"
      },
      "id": "fEHTDhoZOI_2",
      "execution_count": null,
      "outputs": []
    },
    {
      "cell_type": "code",
      "source": [
        "myStages=[SRITNG_INDEXER,ONE_HOT_ENCODIN,VECTOR_ASSEMBLER,imputer,rf]\n",
        "pl=Pipeline(stages=myStages)\n",
        "pl_model=pl.fit(traindf)"
      ],
      "metadata": {
        "id": "fjgqovQBNmnb"
      },
      "id": "fjgqovQBNmnb",
      "execution_count": null,
      "outputs": []
    },
    {
      "cell_type": "code",
      "source": [
        "pred_df=pl_model.transform(testdf)"
      ],
      "metadata": {
        "id": "iFy5fRh_PCwe"
      },
      "id": "iFy5fRh_PCwe",
      "execution_count": null,
      "outputs": []
    },
    {
      "cell_type": "code",
      "source": [
        "pred_df.printSchema()"
      ],
      "metadata": {
        "id": "NohvqphyPIgw",
        "colab": {
          "base_uri": "https://localhost:8080/"
        },
        "outputId": "ef816f30-d295-4cf7-ae12-7f241f9462f8"
      },
      "id": "NohvqphyPIgw",
      "execution_count": null,
      "outputs": [
        {
          "output_type": "stream",
          "name": "stdout",
          "text": [
            "root\n",
            " |-- province: string (nullable = true)\n",
            " |-- is_male: integer (nullable = true)\n",
            " |-- is_dead: integer (nullable = false)\n",
            " |-- age2: double (nullable = true)\n",
            " |-- province_index: double (nullable = false)\n",
            " |-- provinceOHE: vector (nullable = true)\n",
            " |-- features: vector (nullable = true)\n",
            " |-- imputed_Age: double (nullable = true)\n",
            " |-- rawPrediction: vector (nullable = true)\n",
            " |-- probability: vector (nullable = true)\n",
            " |-- prediction: double (nullable = false)\n",
            "\n"
          ]
        }
      ]
    },
    {
      "cell_type": "code",
      "source": [
        "pred_df.select(\"age2\",\"province\",\"is_male\",\"prediction\",\"is_dead\").show()"
      ],
      "metadata": {
        "id": "XWMgH1kCPLE_",
        "colab": {
          "base_uri": "https://localhost:8080/"
        },
        "outputId": "5de3b368-9b5e-46e2-bb9a-26f9efbd7eeb"
      },
      "id": "XWMgH1kCPLE_",
      "execution_count": null,
      "outputs": [
        {
          "output_type": "stream",
          "name": "stdout",
          "text": [
            "+----+--------+-------+----------+-------+\n",
            "|age2|province|is_male|prediction|is_dead|\n",
            "+----+--------+-------+----------+-------+\n",
            "|10.0|   Busan|      0|       0.0|      0|\n",
            "|20.0|   Busan|      0|       0.0|      0|\n",
            "|20.0|   Busan|      0|       0.0|      0|\n",
            "|20.0|   Busan|      0|       0.0|      0|\n",
            "|20.0|   Busan|      0|       0.0|      0|\n",
            "|30.0|   Busan|      0|       0.0|      0|\n",
            "|30.0|   Busan|      0|       0.0|      0|\n",
            "|40.0|   Busan|      0|       0.0|      0|\n",
            "|50.0|   Busan|      0|       0.0|      0|\n",
            "|50.0|   Busan|      0|       0.0|      0|\n",
            "|60.0|   Busan|      0|       0.0|      0|\n",
            "|60.0|   Busan|      0|       0.0|      0|\n",
            "|60.0|   Busan|      0|       0.0|      0|\n",
            "|70.0|   Busan|      0|       0.0|      0|\n",
            "|30.0|   Busan|      0|       0.0|      1|\n",
            "|80.0|   Busan|      0|       0.0|      1|\n",
            "|10.0|   Busan|      1|       0.0|      0|\n",
            "|20.0|   Busan|      1|       0.0|      0|\n",
            "|50.0|   Busan|      1|       0.0|      0|\n",
            "|60.0|   Busan|      1|       0.0|      0|\n",
            "+----+--------+-------+----------+-------+\n",
            "only showing top 20 rows\n",
            "\n"
          ]
        }
      ]
    },
    {
      "cell_type": "code",
      "source": [
        "from pyspark.ml.evaluation import MulticlassClassificationEvaluator,BinaryClassificationEvaluator"
      ],
      "metadata": {
        "id": "aD-45eIOQXyO"
      },
      "id": "aD-45eIOQXyO",
      "execution_count": null,
      "outputs": []
    },
    {
      "cell_type": "code",
      "source": [
        "evaluatorMulti = MulticlassClassificationEvaluator(labelCol=\"is_dead\", predictionCol=\"prediction\")\n",
        "evaluator = BinaryClassificationEvaluator(labelCol=\"is_dead\", rawPredictionCol=\"prediction\", metricName='areaUnderROC')"
      ],
      "metadata": {
        "id": "fU9CIXmp-jkG"
      },
      "id": "fU9CIXmp-jkG",
      "execution_count": null,
      "outputs": []
    },
    {
      "cell_type": "code",
      "source": [
        "predictionAndTarget =pred_df.select(\"prediction\",\"is_dead\")"
      ],
      "metadata": {
        "id": "TjSUaWf-Ikqx"
      },
      "id": "TjSUaWf-Ikqx",
      "execution_count": null,
      "outputs": []
    },
    {
      "cell_type": "code",
      "source": [
        "acc = evaluatorMulti.evaluate(predictionAndTarget,{evaluatorMulti.metricName:\"accuracy\"})\n",
        "f1 = evaluatorMulti.evaluate(predictionAndTarget,{evaluatorMulti.metricName:\"f1\"})"
      ],
      "metadata": {
        "id": "_JZX8xCv9tJu"
      },
      "id": "_JZX8xCv9tJu",
      "execution_count": null,
      "outputs": []
    },
    {
      "cell_type": "code",
      "source": [
        "acc"
      ],
      "metadata": {
        "colab": {
          "base_uri": "https://localhost:8080/"
        },
        "id": "ggwve27vAPmX",
        "outputId": "5762474d-8e43-4856-d4e6-6b3c2edd83f0"
      },
      "id": "ggwve27vAPmX",
      "execution_count": null,
      "outputs": [
        {
          "output_type": "execute_result",
          "data": {
            "text/plain": [
              "0.8893333333333333"
            ]
          },
          "metadata": {},
          "execution_count": 353
        }
      ]
    },
    {
      "cell_type": "code",
      "source": [
        "f1"
      ],
      "metadata": {
        "colab": {
          "base_uri": "https://localhost:8080/"
        },
        "id": "6Lwiv3Hu-R4e",
        "outputId": "56b95ef4-b928-44ed-c344-dd187d2e7e63"
      },
      "id": "6Lwiv3Hu-R4e",
      "execution_count": null,
      "outputs": [
        {
          "output_type": "execute_result",
          "data": {
            "text/plain": [
              "0.8881771352190513"
            ]
          },
          "metadata": {},
          "execution_count": 354
        }
      ]
    }
  ],
  "metadata": {
    "kernelspec": {
      "display_name": "Python 3 (ipykernel)",
      "language": "python",
      "name": "python3"
    },
    "language_info": {
      "codemirror_mode": {
        "name": "ipython",
        "version": 3
      },
      "file_extension": ".py",
      "mimetype": "text/x-python",
      "name": "python",
      "nbconvert_exporter": "python",
      "pygments_lexer": "ipython3",
      "version": "3.9.12"
    },
    "colab": {
      "name": "Copy of Practical_Day_1_DF_SQL_ML_Student.ipynb",
      "provenance": [],
      "collapsed_sections": [],
      "include_colab_link": true
    }
  },
  "nbformat": 4,
  "nbformat_minor": 5
}